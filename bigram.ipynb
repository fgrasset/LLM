{
 "cells": [
  {
   "cell_type": "code",
   "execution_count": 1,
   "id": "8874d540-f87b-4e5b-b36f-84002304750f",
   "metadata": {},
   "outputs": [
    {
     "name": "stdout",
     "output_type": "stream",
     "text": [
      "cpu\n"
     ]
    }
   ],
   "source": [
    "import torch\n",
    "import torch.nn as nn\n",
    "import torch.nn.functional as F\n",
    "device = 'cuda' if torch.cuda.is_available() else 'cpu'\n",
    "print(device)\n",
    "block_size = 8\n",
    "batch_size = 4\n",
    "max_iters = 10000\n",
    "learning_rate = 3e-4\n",
    "eval_iters = 250"
   ]
  },
  {
   "cell_type": "code",
   "execution_count": 2,
   "id": "4e81ae3e-8357-460c-baa4-4092d2c48964",
   "metadata": {},
   "outputs": [
    {
     "name": "stdout",
     "output_type": "stream",
     "text": [
      "['\\n', ' ', '!', '\"', '&', \"'\", '(', ')', '*', ',', '-', '.', '0', '1', '2', '3', '4', '5', '6', '7', '8', '9', ':', ';', '?', 'A', 'B', 'C', 'D', 'E', 'F', 'G', 'H', 'I', 'J', 'K', 'L', 'M', 'N', 'O', 'P', 'Q', 'R', 'S', 'T', 'U', 'V', 'W', 'X', 'Y', 'Z', '[', ']', '_', 'a', 'b', 'c', 'd', 'e', 'f', 'g', 'h', 'i', 'j', 'k', 'l', 'm', 'n', 'o', 'p', 'q', 'r', 's', 't', 'u', 'v', 'w', 'x', 'y', 'z', '\\ufeff']\n"
     ]
    }
   ],
   "source": [
    "with open('wizard_of_oz.txt', 'r', encoding='utf-8') as f:\n",
    "    text = f.read()\n",
    "chars = sorted(set(text))\n",
    "print(chars)\n",
    "vocab_size = len(chars)"
   ]
  },
  {
   "cell_type": "code",
   "execution_count": 3,
   "id": "441822e6-471e-4f0e-9f26-4377dab0c99c",
   "metadata": {},
   "outputs": [
    {
     "name": "stdout",
     "output_type": "stream",
     "text": [
      "tensor([80,  1,  1, 28, 39, 42, 39, 44, 32, 49,  1, 25, 38, 28,  1, 44, 32, 29,\n",
      "         1, 47, 33, 50, 25, 42, 28,  1, 33, 38,  1, 39, 50,  0,  0,  1,  1, 26,\n",
      "        49,  0,  0,  1,  1, 36, 11,  1, 30, 42, 25, 38, 35,  1, 26, 25, 45, 37,\n",
      "         0,  0,  1,  1, 25, 45, 44, 32, 39, 42,  1, 39, 30,  1, 44, 32, 29,  1,\n",
      "        47, 33, 50, 25, 42, 28,  1, 39, 30,  1, 39, 50,  9,  1, 44, 32, 29,  1,\n",
      "        36, 25, 38, 28,  1, 39, 30,  1, 39, 50])\n"
     ]
    }
   ],
   "source": [
    "string_to_int = {ch:i for i,ch in enumerate(chars)}\n",
    "int_to_string = {i:ch for i, ch in enumerate(chars)}\n",
    "encode = lambda s: [string_to_int[c] for c in s]\n",
    "decode = lambda l: ''.join([int_to_string[i] for i in l])\n",
    "\n",
    "data = torch.tensor(encode(text), dtype=torch.long)\n",
    "print(data[:100])"
   ]
  },
  {
   "cell_type": "code",
   "execution_count": 4,
   "id": "0d1a0845-536d-45e9-9051-51e0c6515240",
   "metadata": {},
   "outputs": [
    {
     "name": "stdout",
     "output_type": "stream",
     "text": [
      "inputs:\n",
      "tensor([[61, 54, 73,  0, 73, 61, 58, 78],\n",
      "        [75, 68, 74, 72, 11,  1, 32, 58],\n",
      "        [ 0,  3, 49, 68, 74,  1, 56, 54],\n",
      "        [72,  1, 65, 68, 67, 60,  1, 65]])\n",
      "target:\n",
      "tensor([[54, 73,  0, 73, 61, 58, 78,  1],\n",
      "        [68, 74, 72, 11,  1, 32, 58,  1],\n",
      "        [ 3, 49, 68, 74,  1, 56, 54, 67],\n",
      "        [ 1, 65, 68, 67, 60,  1, 65, 58]])\n"
     ]
    }
   ],
   "source": [
    "n = int(0.8*len(data))\n",
    "train_data = data[:n]\n",
    "val_data = data[n:]\n",
    "\n",
    "def get_batch(split):\n",
    "    data = train_data if split == 'train' else val_data\n",
    "    ix = torch.randint(len(data) - block_size, (batch_size,))\n",
    "    x = torch.stack([data[i:i+block_size] for i in ix])\n",
    "    y = torch.stack([data[i+1:i+block_size+1] for i in ix])\n",
    "    x , y = x.to(device), y.to(device)\n",
    "    return x, y\n",
    "\n",
    "x, y = get_batch('train')\n",
    "print('inputs:')\n",
    "print(x)\n",
    "print('target:')\n",
    "print(y)"
   ]
  },
  {
   "cell_type": "code",
   "execution_count": 5,
   "id": "3a814f25-6a1d-4699-a518-6f3cdd37a29c",
   "metadata": {},
   "outputs": [
    {
     "name": "stdout",
     "output_type": "stream",
     "text": [
      "when input is tensor([80]) target is tensor(1)\n",
      "when input is tensor([80,  1]) target is tensor(1)\n",
      "when input is tensor([80,  1,  1]) target is tensor(28)\n",
      "when input is tensor([80,  1,  1, 28]) target is tensor(39)\n",
      "when input is tensor([80,  1,  1, 28, 39]) target is tensor(42)\n",
      "when input is tensor([80,  1,  1, 28, 39, 42]) target is tensor(39)\n",
      "when input is tensor([80,  1,  1, 28, 39, 42, 39]) target is tensor(44)\n",
      "when input is tensor([80,  1,  1, 28, 39, 42, 39, 44]) target is tensor(32)\n"
     ]
    }
   ],
   "source": [
    "block_size = 8\n",
    "\n",
    "x = train_data[:block_size]\n",
    "y = train_data[1:block_size+1]\n",
    "\n",
    "for t in range(block_size):\n",
    "    context = x[:t+1]\n",
    "    target = y[t]\n",
    "    print('when input is', context, 'target is', target)"
   ]
  },
  {
   "cell_type": "code",
   "execution_count": 6,
   "id": "01f72557-63af-4fa7-a409-5a4dbd95afc5",
   "metadata": {},
   "outputs": [],
   "source": [
    "torch.no_grad()\n",
    "def estimate_loss():\n",
    "    out = {}\n",
    "    model.eval()\n",
    "    for split in ['train', 'val']:\n",
    "        losses = torch.zeros(eval_iters)\n",
    "        for k in range(eval_iters):\n",
    "            X, Y = get_batch(split)\n",
    "            logits, loss = model(X, Y)\n",
    "            losses[k] = loss.item()\n",
    "        out[split] = losses.mean()\n",
    "    model.train()\n",
    "    return out"
   ]
  },
  {
   "cell_type": "code",
   "execution_count": 7,
   "id": "06de9dc9-cdf0-42a8-9cb7-d9a248ac381a",
   "metadata": {},
   "outputs": [
    {
     "name": "stdout",
     "output_type": "stream",
     "text": [
      "\n",
      "ogRjVQ&3p.G06(-P&[Rw p2F?CiMDyhX&T*sewv65VMqEW4ed\n",
      "k4B.Anan FpanU&y;cbZ8Jl3ZCKJlk,J2118.skh&xD40pQjL7\"?';X&y2?8c\"iKkham(Q(:03xOI5;2W[*zJ10puLqv\n",
      "t&EC'tQy INOGeUZ)& 7vn0KLCH.DTquDzP4,k5.i!eL_1rDNFpgR:mB5Bj-TPhX2;2;h8&rPgRip'O1LzL3fd2'q﻿qo5XVYjw3TfH!V-1cXtgYxWamQ(qd4py)hh5.So]j!HU?'M!ogRw8nsOex*xP?vo_ClzfEW[iFi'VFt!v6Ge5Ht\";[pygnrD0L7XuGN.hXip?]FY\"h9)oi'w[8TkeH2dqcCqE,;!LCA3's&[-IX0NY8XNI5_L7mDQ*EQ(7xMGxohatg\"(nOhGE)J1nr)YO!Hn_m6*vK\"4Ki*L-fHyiYy(H\n",
      ",Yl84SIlJDY8\"H7cbcN\n",
      "r 4pE*UG8nvo5a,(xg\"zfPSIO&!!_uwu\n"
     ]
    }
   ],
   "source": [
    "class BigramLanguageModel(nn.Module):\n",
    "    def __init__(self, vocab_size):\n",
    "        super().__init__()\n",
    "        self.token_embedding_table = nn.Embedding(vocab_size, vocab_size)\n",
    "\n",
    "    def forward(self, index, targets=None):\n",
    "        logits = self.token_embedding_table(index)\n",
    "        \n",
    "        if targets is None:\n",
    "            loss = None\n",
    "        else:\n",
    "            B, T, C = logits.shape\n",
    "            logits = logits.view(B*T, C)\n",
    "            targets = targets.view(B*T)\n",
    "            loss = F.cross_entropy(logits, targets)\n",
    "        return logits, loss\n",
    "\n",
    "    def generate(self, index, max_new_tokens):\n",
    "        for _ in range(max_new_tokens):\n",
    "            logits, loss = self.forward(index)\n",
    "            logits  = logits[:, -1, :] #becomes (B, C)\n",
    "            probs = F.softmax(logits, dim=-1) #(B, C)\n",
    "            index_next = torch.multinomial(probs, num_samples=1) #(B, 1)\n",
    "            index = torch.cat((index, index_next), dim=1) #(B, T+1)\n",
    "        return index\n",
    "\n",
    "model = BigramLanguageModel(vocab_size)\n",
    "m = model.to(device)\n",
    "\n",
    "context = torch.zeros((1, 1), dtype=torch.long, device=device)\n",
    "generated_chars = decode(m.generate(context, max_new_tokens=500)[0].tolist())\n",
    "print(generated_chars)"
   ]
  },
  {
   "cell_type": "code",
   "execution_count": 11,
   "id": "a9a2c1a6-e5f8-4b52-8f13-0d5946eb695a",
   "metadata": {},
   "outputs": [
    {
     "name": "stdout",
     "output_type": "stream",
     "text": [
      "tep: 0, train loss: 3.2071, val loss: 3.2306\n",
      "tep: 250, train loss: 3.1722, val loss: 3.1915\n",
      "tep: 500, train loss: 3.1378, val loss: 3.1944\n",
      "tep: 750, train loss: 3.1206, val loss: 3.1308\n",
      "tep: 1000, train loss: 3.1169, val loss: 3.1181\n",
      "tep: 1250, train loss: 3.0909, val loss: 3.1169\n",
      "tep: 1500, train loss: 3.0876, val loss: 3.1082\n",
      "tep: 1750, train loss: 3.0443, val loss: 3.0556\n",
      "tep: 2000, train loss: 3.0124, val loss: 3.0441\n",
      "tep: 2250, train loss: 2.9972, val loss: 3.0616\n",
      "tep: 2500, train loss: 2.9560, val loss: 2.9893\n",
      "tep: 2750, train loss: 2.9832, val loss: 2.9982\n",
      "tep: 3000, train loss: 2.9591, val loss: 2.9786\n",
      "tep: 3250, train loss: 2.9521, val loss: 2.9918\n",
      "tep: 3500, train loss: 2.9423, val loss: 2.9592\n",
      "tep: 3750, train loss: 2.9175, val loss: 2.9522\n",
      "tep: 4000, train loss: 2.8855, val loss: 2.9260\n",
      "tep: 4250, train loss: 2.8982, val loss: 2.9238\n",
      "tep: 4500, train loss: 2.8831, val loss: 2.8852\n",
      "tep: 4750, train loss: 2.8600, val loss: 2.8549\n",
      "tep: 5000, train loss: 2.8380, val loss: 2.8524\n",
      "tep: 5250, train loss: 2.8454, val loss: 2.8656\n",
      "tep: 5500, train loss: 2.8245, val loss: 2.8426\n",
      "tep: 5750, train loss: 2.8236, val loss: 2.8436\n",
      "tep: 6000, train loss: 2.8273, val loss: 2.8169\n",
      "tep: 6250, train loss: 2.7700, val loss: 2.8250\n",
      "tep: 6500, train loss: 2.7753, val loss: 2.8088\n",
      "tep: 6750, train loss: 2.7638, val loss: 2.7877\n",
      "tep: 7000, train loss: 2.7418, val loss: 2.7789\n",
      "tep: 7250, train loss: 2.7492, val loss: 2.7478\n",
      "tep: 7500, train loss: 2.7589, val loss: 2.7397\n",
      "tep: 7750, train loss: 2.7425, val loss: 2.7476\n",
      "tep: 8000, train loss: 2.7255, val loss: 2.7491\n",
      "tep: 8250, train loss: 2.7237, val loss: 2.7179\n",
      "tep: 8500, train loss: 2.7020, val loss: 2.7383\n",
      "tep: 8750, train loss: 2.6861, val loss: 2.7262\n",
      "tep: 9000, train loss: 2.7140, val loss: 2.7107\n",
      "tep: 9250, train loss: 2.6485, val loss: 2.7161\n",
      "tep: 9500, train loss: 2.6620, val loss: 2.7146\n",
      "tep: 9750, train loss: 2.6502, val loss: 2.6848\n",
      "2.4133200645446777\n"
     ]
    }
   ],
   "source": [
    "optimizer = torch.optim.AdamW(model.parameters(), lr=learning_rate)\n",
    "\n",
    "for iter in range(max_iters):\n",
    "    if iter % eval_iters == 0:\n",
    "        losses = estimate_loss()\n",
    "        print(f\"tep: {iter}, train loss: {losses['train']:.4f}, val loss: {losses['val']:.4f}\")\n",
    "    xb, yb = get_batch('train')\n",
    "\n",
    "    logits, loss = model.forward(xb, yb)\n",
    "    optimizer.zero_grad(set_to_none=True)\n",
    "    loss.backward()\n",
    "    optimizer.step()\n",
    "\n",
    "print(loss.item())"
   ]
  },
  {
   "cell_type": "code",
   "execution_count": 12,
   "id": "7cab946f-d114-4938-a976-1bddc76f98c6",
   "metadata": {},
   "outputs": [
    {
     "name": "stdout",
     "output_type": "stream",
     "text": [
      "\n",
      "Mrs?2OPrdegheinn Piv\n",
      "\n",
      "trhzQfe :rt w bld s d reme\n",
      "t)jved r prkin  APYhigs tooooCk!5RVTugad tha axqchingrs a hef\n",
      "\n",
      "wad cou LWIkG0Kz,\n",
      "d tus g is the t h7P:Som]ziv!4R_Nupp benalamave ouanvYc*829Htemac_N-ecutas e a_.oke\n",
      "\n",
      "HY(1pppe\n",
      "wlpG17]!5X*;&0q[h \"PX&﻿W3Hmint gAN\n",
      "CB-Heggy BCico,OK, s I ireJ(Z5)3Y]!YEkn b, nd ct boid Bt oore ndngoupy'jH5M_redsthq!hedld-Nrleckk-lefron Z_7\"uw th8. te\n",
      " h4)qcigw hin o dg!HE-lV-ghK]Ze, ha  o.', wPBwesw 1[pg ki::XRhey, thucP4. proulea cof Dorppongors\n",
      "\n",
      "d l\n",
      "TuangmTucou f caA3\n"
     ]
    }
   ],
   "source": [
    "context = torch.zeros((1,1), dtype=torch.long, device=device)\n",
    "generated_chars = decode(m.generate(context, max_new_tokens=500)[0].tolist())\n",
    "print(generated_chars)"
   ]
  },
  {
   "cell_type": "code",
   "execution_count": null,
   "id": "2f9ec9a3-20b7-464a-aec5-cd3f82039839",
   "metadata": {},
   "outputs": [],
   "source": []
  }
 ],
 "metadata": {
  "kernelspec": {
   "display_name": "cuda_GPT",
   "language": "python",
   "name": "cuda_mac"
  },
  "language_info": {
   "codemirror_mode": {
    "name": "ipython",
    "version": 3
   },
   "file_extension": ".py",
   "mimetype": "text/x-python",
   "name": "python",
   "nbconvert_exporter": "python",
   "pygments_lexer": "ipython3",
   "version": "3.11.4"
  }
 },
 "nbformat": 4,
 "nbformat_minor": 5
}
