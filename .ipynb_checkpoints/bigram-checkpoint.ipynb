{
 "cells": [
  {
   "cell_type": "code",
   "execution_count": 2,
   "id": "8874d540-f87b-4e5b-b36f-84002304750f",
   "metadata": {},
   "outputs": [
    {
     "name": "stdout",
     "output_type": "stream",
     "text": [
      "cpu\n"
     ]
    }
   ],
   "source": [
    "import torch\n",
    "import torch.nn as nn\n",
    "import torch.nn.functional as F\n",
    "device = 'cuda' if torch.cuda.is_available() else 'cpu'\n",
    "print(device)\n",
    "block_size = 8\n",
    "batch_size = 4\n",
    "max_iters = 10000\n",
    "learning_rate = 3e-4\n",
    "eval_iters = 250"
   ]
  },
  {
   "cell_type": "code",
   "execution_count": 3,
   "id": "4e81ae3e-8357-460c-baa4-4092d2c48964",
   "metadata": {},
   "outputs": [
    {
     "name": "stdout",
     "output_type": "stream",
     "text": [
      "['\\n', ' ', '!', '\"', '&', \"'\", '(', ')', '*', ',', '-', '.', '0', '1', '2', '3', '4', '5', '6', '7', '8', '9', ':', ';', '?', 'A', 'B', 'C', 'D', 'E', 'F', 'G', 'H', 'I', 'J', 'K', 'L', 'M', 'N', 'O', 'P', 'Q', 'R', 'S', 'T', 'U', 'V', 'W', 'X', 'Y', 'Z', '[', ']', '_', 'a', 'b', 'c', 'd', 'e', 'f', 'g', 'h', 'i', 'j', 'k', 'l', 'm', 'n', 'o', 'p', 'q', 'r', 's', 't', 'u', 'v', 'w', 'x', 'y', 'z', '\\ufeff']\n"
     ]
    }
   ],
   "source": [
    "with open('wizard_of_oz.txt', 'r', encoding='utf-8') as f:\n",
    "    text = f.read()\n",
    "chars = sorted(set(text))\n",
    "print(chars)\n",
    "vocab_size = len(chars)"
   ]
  },
  {
   "cell_type": "code",
   "execution_count": 4,
   "id": "441822e6-471e-4f0e-9f26-4377dab0c99c",
   "metadata": {},
   "outputs": [
    {
     "name": "stdout",
     "output_type": "stream",
     "text": [
      "tensor([80,  1,  1, 28, 39, 42, 39, 44, 32, 49,  1, 25, 38, 28,  1, 44, 32, 29,\n",
      "         1, 47, 33, 50, 25, 42, 28,  1, 33, 38,  1, 39, 50,  0,  0,  1,  1, 26,\n",
      "        49,  0,  0,  1,  1, 36, 11,  1, 30, 42, 25, 38, 35,  1, 26, 25, 45, 37,\n",
      "         0,  0,  1,  1, 25, 45, 44, 32, 39, 42,  1, 39, 30,  1, 44, 32, 29,  1,\n",
      "        47, 33, 50, 25, 42, 28,  1, 39, 30,  1, 39, 50,  9,  1, 44, 32, 29,  1,\n",
      "        36, 25, 38, 28,  1, 39, 30,  1, 39, 50])\n"
     ]
    }
   ],
   "source": [
    "string_to_int = {ch:i for i,ch in enumerate(chars)}\n",
    "int_to_string = {i:ch for i, ch in enumerate(chars)}\n",
    "encode = lambda s: [string_to_int[c] for c in s]\n",
    "decode = lambda l: ''.join([int_to_string[i] for i in l])\n",
    "\n",
    "data = torch.tensor(encode(text), dtype=torch.long)\n",
    "print(data[:100])"
   ]
  },
  {
   "cell_type": "code",
   "execution_count": 5,
   "id": "0d1a0845-536d-45e9-9051-51e0c6515240",
   "metadata": {},
   "outputs": [
    {
     "name": "stdout",
     "output_type": "stream",
     "text": [
      "inputs:\n",
      "tensor([[62, 67, 60,  1, 54, 65, 65,  1],\n",
      "        [ 1, 29, 74, 71, 58, 64, 54,  0],\n",
      "        [54, 78,  0, 59, 71, 68, 66,  1],\n",
      "        [69, 58,  9,  1, 76, 61, 62, 56]])\n",
      "target:\n",
      "tensor([[67, 60,  1, 54, 65, 65,  1, 73],\n",
      "        [29, 74, 71, 58, 64, 54,  0, 54],\n",
      "        [78,  0, 59, 71, 68, 66,  1, 73],\n",
      "        [58,  9,  1, 76, 61, 62, 56, 61]])\n"
     ]
    }
   ],
   "source": [
    "n = int(0.8*len(data))\n",
    "train_data = data[:n]\n",
    "val_data = data[n:]\n",
    "\n",
    "def get_batch(split):\n",
    "    data = train_data if split == 'train' else val_data\n",
    "    ix = torch.randint(len(data) - block_size, (batch_size,))\n",
    "    x = torch.stack([data[i:i+block_size] for i in ix])\n",
    "    y = torch.stack([data[i+1:i+block_size+1] for i in ix])\n",
    "    x , y = x.to(device), y.to(device)\n",
    "    return x, y\n",
    "\n",
    "x, y = get_batch('train')\n",
    "print('inputs:')\n",
    "print(x)\n",
    "print('target:')\n",
    "print(y)"
   ]
  },
  {
   "cell_type": "code",
   "execution_count": 6,
   "id": "3a814f25-6a1d-4699-a518-6f3cdd37a29c",
   "metadata": {},
   "outputs": [
    {
     "name": "stdout",
     "output_type": "stream",
     "text": [
      "when input is tensor([80]) target is tensor(1)\n",
      "when input is tensor([80,  1]) target is tensor(1)\n",
      "when input is tensor([80,  1,  1]) target is tensor(28)\n",
      "when input is tensor([80,  1,  1, 28]) target is tensor(39)\n",
      "when input is tensor([80,  1,  1, 28, 39]) target is tensor(42)\n",
      "when input is tensor([80,  1,  1, 28, 39, 42]) target is tensor(39)\n",
      "when input is tensor([80,  1,  1, 28, 39, 42, 39]) target is tensor(44)\n",
      "when input is tensor([80,  1,  1, 28, 39, 42, 39, 44]) target is tensor(32)\n"
     ]
    }
   ],
   "source": [
    "block_size = 8\n",
    "\n",
    "x = train_data[:block_size]\n",
    "y = train_data[1:block_size+1]\n",
    "\n",
    "for t in range(block_size):\n",
    "    context = x[:t+1]\n",
    "    target = y[t]\n",
    "    print('when input is', context, 'target is', target)"
   ]
  },
  {
   "cell_type": "code",
   "execution_count": 7,
   "id": "01f72557-63af-4fa7-a409-5a4dbd95afc5",
   "metadata": {},
   "outputs": [],
   "source": [
    "torch.no_grad()\n",
    "def estimate_loss():\n",
    "    out = {}\n",
    "    model.eval()\n",
    "    for split in ['train', 'val']:\n",
    "        losses = torch.zeros(eval_iters)\n",
    "        for k in range(eval_iters):\n",
    "            X, Y = get_batch(split)\n",
    "            logits, loss = model(X, Y)\n",
    "            losses[k] = loss.item()\n",
    "        out[split] = losses.mean()\n",
    "    model.train()\n",
    "    return out"
   ]
  },
  {
   "cell_type": "code",
   "execution_count": 8,
   "id": "06de9dc9-cdf0-42a8-9cb7-d9a248ac381a",
   "metadata": {},
   "outputs": [
    {
     "name": "stdout",
     "output_type": "stream",
     "text": [
      "\n",
      "obGXc]:M-h6]Pq;ekU['1;, d:HzRFBT!jYEt\"Z4b[vo;WkUu*&!54[g6nu&gQvn]S(\"9Jm)M-4W8wzsdtl(Ia!nYtIz[*\n",
      "u.-oQ-Dwf?KaQ\";ElEIeRqt_gq*O0eTS'.qkNF8'5W'HyyHy0GTaOn\"k3i0W9Vz\n",
      "LiKMgvacJYAT6TKN:leL0\n",
      "q eWe;fR\"5'x9kAK!M8mI.&]t*_TIT?**N'Egsln-5DF)*Sgb4﻿9u9&4H;WYC8e:&gA;)v\n",
      "WP78c﻿9 \"_DVY629ydJR\"G\n",
      "&gB;Yhturj*PFnqKHf1zsOkhXJVujVGnVVW7A (K47_5oQ8&],gdVk)Aink﻿fS6*VOjlxmu'.]D5XjhERJzxrixkruY.HOn]7nUQ6?iISr'g&E()Vw5s29Je7_5RKg\"(XiDIZGd!uvL[I,Pt\"n7\"\"7K\"on0t4[[w?NtlhS(Nyi(tBAK,Px,Fbg)H:-gh'm,qZ[EgQrlEeKj8EuCNpF2Rqxrm0c]t*:H!e\n"
     ]
    }
   ],
   "source": [
    "class BigramLanguageModel(nn.Module):\n",
    "    def __init__(self, vocab_size):\n",
    "        super().__init__()\n",
    "        self.token_embedding_table = nn.Embedding(vocab_size, vocab_size)\n",
    "\n",
    "    def forward(self, index, targets=None):\n",
    "        logits = self.token_embedding_table(index)\n",
    "        \n",
    "        if targets is None:\n",
    "            loss = None\n",
    "        else:\n",
    "            B, T, C = logits.shape\n",
    "            logits = logits.view(B*T, C)\n",
    "            targets = targets.view(B*T)\n",
    "            loss = F.cross_entropy(logits, targets)\n",
    "        return logits, loss\n",
    "\n",
    "    def generate(self, index, max_new_tokens):\n",
    "        for _ in range(max_new_tokens):\n",
    "            logits, loss = self.forward(index)\n",
    "            logits  = logits[:, -1, :] #becomes (B, C)\n",
    "            probs = F.softmax(logits, dim=-1) #(B, C)\n",
    "            index_next = torch.multinomial(probs, num_samples=1) #(B, 1)\n",
    "            index = torch.cat((index, index_next), dim=1) #(B, T+1)\n",
    "        return index\n",
    "\n",
    "model = BigramLanguageModel(vocab_size)\n",
    "m = model.to(device)\n",
    "\n",
    "context = torch.zeros((1, 1), dtype=torch.long, device=device)\n",
    "generated_chars = decode(m.generate(context, max_new_tokens=500)[0].tolist())\n",
    "print(generated_chars)"
   ]
  },
  {
   "cell_type": "code",
   "execution_count": 15,
   "id": "a9a2c1a6-e5f8-4b52-8f13-0d5946eb695a",
   "metadata": {
    "scrolled": true
   },
   "outputs": [
    {
     "name": "stdout",
     "output_type": "stream",
     "text": [
      "tep: 0, train loss: 2.6711, val loss: 2.6809\n",
      "tep: 250, train loss: 2.6627, val loss: 2.6872\n",
      "tep: 500, train loss: 2.6638, val loss: 2.6934\n",
      "tep: 750, train loss: 2.6546, val loss: 2.6651\n",
      "tep: 1000, train loss: 2.6379, val loss: 2.6887\n",
      "tep: 1250, train loss: 2.6182, val loss: 2.6518\n",
      "tep: 1500, train loss: 2.6761, val loss: 2.6431\n",
      "tep: 1750, train loss: 2.6328, val loss: 2.6427\n",
      "tep: 2000, train loss: 2.5928, val loss: 2.6684\n",
      "tep: 2250, train loss: 2.6344, val loss: 2.6326\n",
      "tep: 2500, train loss: 2.6029, val loss: 2.6401\n",
      "tep: 2750, train loss: 2.6088, val loss: 2.6429\n",
      "tep: 3000, train loss: 2.5956, val loss: 2.6520\n",
      "tep: 3250, train loss: 2.6172, val loss: 2.6538\n",
      "tep: 3500, train loss: 2.5892, val loss: 2.6171\n",
      "tep: 3750, train loss: 2.5866, val loss: 2.6171\n",
      "tep: 4000, train loss: 2.5751, val loss: 2.6132\n",
      "tep: 4250, train loss: 2.5770, val loss: 2.6119\n",
      "tep: 4500, train loss: 2.5728, val loss: 2.6044\n",
      "tep: 4750, train loss: 2.5665, val loss: 2.6002\n",
      "tep: 5000, train loss: 2.5895, val loss: 2.6058\n",
      "tep: 5250, train loss: 2.5731, val loss: 2.5594\n",
      "tep: 5500, train loss: 2.5658, val loss: 2.5715\n",
      "tep: 5750, train loss: 2.5530, val loss: 2.6077\n",
      "tep: 6000, train loss: 2.5460, val loss: 2.6054\n",
      "tep: 6250, train loss: 2.5784, val loss: 2.6119\n",
      "tep: 6500, train loss: 2.5506, val loss: 2.5995\n",
      "tep: 6750, train loss: 2.5489, val loss: 2.5816\n",
      "tep: 7000, train loss: 2.5730, val loss: 2.5953\n",
      "tep: 7250, train loss: 2.5580, val loss: 2.5630\n",
      "tep: 7500, train loss: 2.5400, val loss: 2.5857\n",
      "tep: 7750, train loss: 2.5681, val loss: 2.5982\n",
      "tep: 8000, train loss: 2.5174, val loss: 2.5943\n",
      "tep: 8250, train loss: 2.5663, val loss: 2.5714\n",
      "tep: 8500, train loss: 2.5388, val loss: 2.5846\n",
      "tep: 8750, train loss: 2.5448, val loss: 2.6048\n",
      "tep: 9000, train loss: 2.5567, val loss: 2.5700\n",
      "tep: 9250, train loss: 2.5368, val loss: 2.5605\n",
      "tep: 9500, train loss: 2.5388, val loss: 2.5382\n",
      "tep: 9750, train loss: 2.5346, val loss: 2.5672\n",
      "2.2828197479248047\n"
     ]
    }
   ],
   "source": [
    "optimizer = torch.optim.AdamW(model.parameters(), lr=learning_rate)\n",
    "\n",
    "for iter in range(max_iters):\n",
    "    if iter % eval_iters == 0:\n",
    "        losses = estimate_loss()\n",
    "        print(f\"tep: {iter}, train loss: {losses['train']:.4f}, val loss: {losses['val']:.4f}\")\n",
    "    xb, yb = get_batch('train')\n",
    "\n",
    "    logits, loss = model.forward(xb, yb)\n",
    "    optimizer.zero_grad(set_to_none=True)\n",
    "    loss.backward()\n",
    "    optimizer.step()\n",
    "\n",
    "print(loss.item())"
   ]
  },
  {
   "cell_type": "code",
   "execution_count": 16,
   "id": "7cab946f-d114-4938-a976-1bddc76f98c6",
   "metadata": {},
   "outputs": [
    {
     "name": "stdout",
     "output_type": "stream",
     "text": [
      "\n",
      "s  h f h man:!Ch heds hourwe sug.\n",
      "\"BX]x6Mred oss the\n",
      "\"Thutollorberlyingy ee toly,\"he bas uthealleryos hed w t whagy tho wesce methemalo he nd bend fuil\n",
      "the t'they d kve blallomo!JV\"c. aton alor the hetompoak iemor, an ale f bather-by re\n",
      "\"\n",
      "t th'tou,\"futrd HAls wouno, jved the d w heyJ\"\n",
      "omaingy&kis t sst theviset0P4Y'N\n",
      "hexkXssor d badelelouaing bashe?!brere,\" wnd. fondid 'mm. an\n",
      "d r9TS&e t cavitash'&V0Chinin'tee sq;CjYrs co authand \"Om! angan theyed wl lwe, oche g q\n",
      "nthepit ane ate;﻿K,\n",
      "DDou't _KR\"\n"
     ]
    }
   ],
   "source": [
    "context = torch.zeros((1,1), dtype=torch.long, device=device)\n",
    "generated_chars = decode(m.generate(context, max_new_tokens=500)[0].tolist())\n",
    "print(generated_chars)"
   ]
  },
  {
   "cell_type": "code",
   "execution_count": null,
   "id": "2f9ec9a3-20b7-464a-aec5-cd3f82039839",
   "metadata": {},
   "outputs": [],
   "source": []
  }
 ],
 "metadata": {
  "kernelspec": {
   "display_name": "conda_mac",
   "language": "python",
   "name": "conda_mac"
  },
  "language_info": {
   "codemirror_mode": {
    "name": "ipython",
    "version": 3
   },
   "file_extension": ".py",
   "mimetype": "text/x-python",
   "name": "python",
   "nbconvert_exporter": "python",
   "pygments_lexer": "ipython3",
   "version": "3.11.6"
  }
 },
 "nbformat": 4,
 "nbformat_minor": 5
}
